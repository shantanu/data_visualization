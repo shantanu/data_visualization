{
 "cells": [
  {
   "cell_type": "code",
   "execution_count": 1,
   "metadata": {
    "collapsed": false
   },
   "outputs": [
    {
     "name": "stdout",
     "output_type": "stream",
     "text": [
      "1095\n",
      "https://www.wunderground.com/history/airport/KNYC/2013/1/1/DailyHistory.html?MR=1\n",
      "https://www.wunderground.com/history/airport/KNYC/2013/1/2/DailyHistory.html?MR=1\n",
      "https://www.wunderground.com/history/airport/KNYC/2013/1/3/DailyHistory.html?MR=1\n",
      "https://www.wunderground.com/history/airport/KNYC/2013/1/4/DailyHistory.html?MR=1\n",
      "https://www.wunderground.com/history/airport/KNYC/2013/1/5/DailyHistory.html?MR=1\n"
     ]
    }
   ],
   "source": [
    "days_per_month = {1: 31, 2: 28, 3: 31, 4: 30,\n",
    "                  5: 31, 6: 30, 7: 31, 8: 31,\n",
    "                  9: 30, 10: 31, 11: 30, 12: 31}\n",
    "\n",
    "link_format = \"https://www.wunderground.com/history/airport/KNYC/{}/{}/{}/DailyHistory.html?MR=1\"\n",
    "links = [link_format.format(year, month, day)\n",
    "        for year in range(2013, 2016)\n",
    "        for month in range(1, 13)\n",
    "        for day in range(1, days_per_month[month] + 1)]\n",
    "\n",
    "print(len(links))\n",
    "print(\"\\n\".join(links[:5]))"
   ]
  },
  {
   "cell_type": "code",
   "execution_count": 3,
   "metadata": {
    "collapsed": false
   },
   "outputs": [
    {
     "name": "stdout",
     "output_type": "stream",
     "text": [
      "Done with 0..\n",
      "Done with 50..\n",
      "Done with 100..\n",
      "Done with 150..\n",
      "Done with 200..\n",
      "Done with 250..\n",
      "Done with 300..\n",
      "Done with 350..\n",
      "Done with 400..\n",
      "Done with 450..\n",
      "Done with 500..\n",
      "Done with 550..\n",
      "Done with 600..\n",
      "Done with 650..\n",
      "Done with 700..\n",
      "Done with 750..\n",
      "Done with 800..\n",
      "Done with 850..\n",
      "Done with 900..\n",
      "Done with 950..\n",
      "Done with 1000..\n",
      "Done with 1050..\n"
     ]
    }
   ],
   "source": [
    "import requests\n",
    "import os.path\n",
    "\n",
    "def download_file(link, name):\n",
    "    if os.path.isfile(name):\n",
    "        return\n",
    "    file = open(name, 'w')\n",
    "    r = requests.get(link)\n",
    "    file.write(r.text.encode('ascii', 'ignore').decode('ascii'))\n",
    "    file.close()\n",
    "\n",
    "for i, link in enumerate(links):\n",
    "    if i % 50 == 0:\n",
    "        print(\"Done with %d..\" % i)\n",
    "    download_file(link, \"%d.html\" % i)\n"
   ]
  },
  {
   "cell_type": "code",
   "execution_count": 5,
   "metadata": {
    "collapsed": false
   },
   "outputs": [],
   "source": [
    "from bs4 import BeautifulSoup\n",
    "\n",
    "with open(\"0.html\") as fin:\n",
    "    soup = BeautifulSoup(fin.read(), \"html.parser\")"
   ]
  },
  {
   "cell_type": "code",
   "execution_count": 7,
   "metadata": {
    "collapsed": false
   },
   "outputs": [
    {
     "name": "stdout",
     "output_type": "stream",
     "text": [
      "<a href=\"/login.asp\">Log in</a>\n",
      "\n",
      "<a aria-label=\"Close\" class=\"close-reveal-modal\">×</a>\n",
      "\n",
      "<a class=\"button medium radius\" href=\"/member/registration\">Remove Ads</a>\n",
      "\n",
      "<a class=\"exit-off-canvas\"></a>\n",
      "\n",
      "<a class=\"ad-choices\" href=\"/ad-choices\">AdChoices</a>\n",
      "\n"
     ]
    }
   ],
   "source": [
    "all_as = soup.find_all('a')\n",
    "for i in range(5):\n",
    "    print(all_as[-i])\n",
    "    print()"
   ]
  },
  {
   "cell_type": "code",
   "execution_count": 8,
   "metadata": {
    "collapsed": true
   },
   "outputs": [],
   "source": [
    "main_table = soup.find(id='historyTable')"
   ]
  },
  {
   "cell_type": "code",
   "execution_count": 9,
   "metadata": {
    "collapsed": false
   },
   "outputs": [
    {
     "name": "stdout",
     "output_type": "stream",
     "text": [
      "34\n",
      "<tr>\n",
      "<th> </th>\n",
      "<th>Actual</th>\n",
      "<th>Average </th>\n",
      "<th>Record </th>\n",
      "</tr>\n",
      "\n",
      "<tr>\n",
      "<td class=\"history-table-grey-header\">Temperature</td>\n",
      "<td class=\"history-table-grey-header\" colspan=\"3\"> </td>\n",
      "</tr>\n",
      "\n",
      "<tr>\n",
      "<td class=\"indent\"><span>Mean Temperature</span></td>\n",
      "<td>\n",
      "<span class=\"wx-data\"><span class=\"wx-value\">33</span><span class=\"wx-unit\"> °F</span></span>\n",
      "</td>\n",
      "<td>\n",
      "<span class=\"wx-data\"><span class=\"wx-value\">33</span><span class=\"wx-unit\"> °F</span></span>\n",
      "</td>\n",
      "<td> </td>\n",
      "</tr>\n",
      "\n"
     ]
    }
   ],
   "source": [
    "rows = main_table.find_all('tr')\n",
    "print(len(rows))\n",
    "for i in range(3):\n",
    "    print(rows[i])\n",
    "    print()"
   ]
  },
  {
   "cell_type": "code",
   "execution_count": 10,
   "metadata": {
    "collapsed": false
   },
   "outputs": [
    {
     "name": "stdout",
     "output_type": "stream",
     "text": [
      "<td class=\"indent\"><span>Mean Temperature</span></td>\n",
      "\n",
      "<td>\n",
      "<span class=\"wx-data\"><span class=\"wx-value\">33</span><span class=\"wx-unit\"> °F</span></span>\n",
      "</td>\n",
      "\n",
      "<td>\n",
      "<span class=\"wx-data\"><span class=\"wx-value\">33</span><span class=\"wx-unit\"> °F</span></span>\n",
      "</td>\n",
      "\n",
      "<td> </td>\n",
      "\n",
      "Mean Temperature : 33 °F\n"
     ]
    }
   ],
   "source": [
    "row = rows[2]\n",
    "for cell in row.find_all('td'):\n",
    "    print(cell)\n",
    "    print()\n",
    "row_name = row.find_all('td')[0].text.strip() # Get rid of extra whitespace\n",
    "row_value = row.find_all('td')[1].text.strip()\n",
    "print(row_name, \":\", row_value)"
   ]
  },
  {
   "cell_type": "code",
   "execution_count": 11,
   "metadata": {
    "collapsed": false
   },
   "outputs": [
    {
     "name": "stdout",
     "output_type": "stream",
     "text": [
      "Mean Temperature : 33 °F\n",
      "Max Temperature : 40 °F\n",
      "Min Temperature : 26 °F\n",
      "Heating Degree Days : 32\n",
      "Month to date heating degree days : 32\n",
      "Since 1 July heating degree days : 1622\n",
      "Cooling Degree Days : 0\n",
      "Month to date cooling degree days : 0\n",
      "Year to date cooling degree days : 0\n",
      "Dew Point : 22 °F\n",
      "Average Humidity : 54\n",
      "Maximum Humidity : 64\n",
      "Minimum Humidity : 44\n",
      "Precipitation : 0.00 in\n",
      "Month to date precipitation : 0.00\n",
      "Year to date precipitation : 0.00\n",
      "Snow : 0.00 in\n",
      "Month to date snowfall : 0.0\n",
      "Since 1 July snowfall : 5.1\n",
      "Snow Depth : 0.00 in\n",
      "Sea Level Pressure : 29.90 in\n",
      "Wind Speed : 7 mph\n",
      " (WNW)\n",
      "Max Wind Speed : 15 mph\n",
      "Max Gust Speed : 26 mph\n",
      "Visibility : 10 miles\n",
      "Events : \n"
     ]
    }
   ],
   "source": [
    "for row in rows:\n",
    "    # Only process the rows with 4 cells to eliminate heading rows, etc.\n",
    "    if len(row.find_all('td')) == 4:\n",
    "        row_name = row.find_all('td')[0].text.strip()\n",
    "        row_value = row.find_all('td')[1].text.strip()\n",
    "        print(row_name, \":\", row_value)"
   ]
  },
  {
   "cell_type": "code",
   "execution_count": 13,
   "metadata": {
    "collapsed": false
   },
   "outputs": [
    {
     "data": {
      "text/plain": [
       "{'Average Humidity': '54',\n",
       " 'Dew Point': '22',\n",
       " 'Max Gust Speed': '26',\n",
       " 'Max Temperature': '40',\n",
       " 'Max Wind Speed': '15',\n",
       " 'Maximum Humidity': '64',\n",
       " 'Mean Temperature': '33',\n",
       " 'Min Temperature': '26',\n",
       " 'Minimum Humidity': '44',\n",
       " 'Precipitation': '0.00',\n",
       " 'Wind Speed': '7'}"
      ]
     },
     "execution_count": 13,
     "metadata": {},
     "output_type": "execute_result"
    }
   ],
   "source": [
    "fields = ['Mean Temperature', 'Max Temperature', 'Min Temperature',\\\n",
    "          'Dew Point', 'Average Humidity', 'Maximum Humidity',\\\n",
    "          'Minimum Humidity', 'Precipitation', 'Wind Speed',\\\n",
    "          'Max Wind Speed', 'Max Gust Speed']\n",
    "\n",
    "def scrape_file(name):\n",
    "    with open(name) as fin:\n",
    "        soup = BeautifulSoup(fin.read(), \"html.parser\")\n",
    "    data = {}\n",
    "    for row in soup.find(id=\"historyTable\").find_all('tr'):\n",
    "        cells = row.find_all(\"td\")\n",
    "        if len(cells) == 4:\n",
    "            name = cells[0].text.strip()\n",
    "            if name in fields:\n",
    "                data[name] = cells[1].text.split()[0].strip()    # Split to remove units\n",
    "                \n",
    "    return data\n",
    "scrape_file(\"0.html\")"
   ]
  },
  {
   "cell_type": "code",
   "execution_count": 17,
   "metadata": {
    "collapsed": false
   },
   "outputs": [
    {
     "name": "stdout",
     "output_type": "stream",
     "text": [
      "Done with 0..\n",
      "Done with 50..\n",
      "Done with 100..\n",
      "Done with 150..\n",
      "Done with 200..\n",
      "Done with 250..\n",
      "Done with 300..\n",
      "Done with 350..\n",
      "Done with 400..\n",
      "Done with 450..\n",
      "Done with 500..\n",
      "Done with 550..\n",
      "Done with 600..\n",
      "Done with 650..\n",
      "Done with 700..\n",
      "Done with 750..\n",
      "Done with 800..\n",
      "Done with 850..\n",
      "Done with 900..\n",
      "Done with 950..\n",
      "Done with 1000..\n",
      "Done with 1050..\n",
      "Done\n"
     ]
    }
   ],
   "source": [
    "import csv\n",
    "\n",
    "csv_fields = [\"Month\", \"Day\", \"Year\"] + fields\n",
    "\n",
    "with open(\"weather_data.csv\", 'w') as fout:\n",
    "    writer = csv.DictWriter(fout, csv_fields)\n",
    "    writer.writeheader()\n",
    "    \n",
    "    for i, link in enumerate(links):\n",
    "        data = scrape_file(\"{}.html\".format(i))\n",
    "        url_parts = link.split(\"/\")\n",
    "        data[\"Month\"] = int(url_parts[-3])\n",
    "        data[\"Year\"] = int(url_parts[-4])\n",
    "        data[\"Day\"] = int(url_parts[-2])\n",
    "        \n",
    "        writer.writerow(data)\n",
    "        if i % 50 == 0:\n",
    "            print(\"Done with %d..\" % i)\n",
    "    print(\"Done\")"
   ]
  },
  {
   "cell_type": "code",
   "execution_count": null,
   "metadata": {
    "collapsed": true
   },
   "outputs": [],
   "source": []
  }
 ],
 "metadata": {
  "kernelspec": {
   "display_name": "Python [Root]",
   "language": "python",
   "name": "Python [Root]"
  },
  "language_info": {
   "codemirror_mode": {
    "name": "ipython",
    "version": 3
   },
   "file_extension": ".py",
   "mimetype": "text/x-python",
   "name": "python",
   "nbconvert_exporter": "python",
   "pygments_lexer": "ipython3",
   "version": "3.5.2"
  }
 },
 "nbformat": 4,
 "nbformat_minor": 0
}
